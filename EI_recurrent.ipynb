{
  "nbformat": 4,
  "nbformat_minor": 0,
  "metadata": {
    "colab": {
      "name": "EI_recurrent.ipynb",
      "provenance": [],
      "collapsed_sections": [],
      "authorship_tag": "ABX9TyMjqZw98+eh3b2zYNra/WBo",
      "include_colab_link": true
    },
    "kernelspec": {
      "name": "python3",
      "display_name": "Python 3"
    },
    "widgets": {
      "application/vnd.jupyter.widget-state+json": {
        "1fd7315dfc13461fa090f3e3bbe840a1": {
          "model_module": "@jupyter-widgets/controls",
          "model_name": "VBoxModel",
          "state": {
            "_view_name": "VBoxView",
            "_dom_classes": [
              "widget-interact"
            ],
            "_model_name": "VBoxModel",
            "_view_module": "@jupyter-widgets/controls",
            "_model_module_version": "1.5.0",
            "_view_count": null,
            "_view_module_version": "1.5.0",
            "box_style": "",
            "layout": "IPY_MODEL_cdb7740ddb3541a38258211e51e6a467",
            "_model_module": "@jupyter-widgets/controls",
            "children": [
              "IPY_MODEL_66814474944d4aaaa95cb7584e234d1b",
              "IPY_MODEL_072a7b2d254c4c33bfb15782bcaacac1",
              "IPY_MODEL_e973d2aad7dd49e8a56d0bb961149782",
              "IPY_MODEL_8b6b510ebf3143519a1fda774c112869",
              "IPY_MODEL_b65ee15c6934402da2c9e7d1d2282615"
            ]
          }
        },
        "cdb7740ddb3541a38258211e51e6a467": {
          "model_module": "@jupyter-widgets/base",
          "model_name": "LayoutModel",
          "state": {
            "_view_name": "LayoutView",
            "grid_template_rows": null,
            "right": null,
            "justify_content": null,
            "_view_module": "@jupyter-widgets/base",
            "overflow": null,
            "_model_module_version": "1.2.0",
            "_view_count": null,
            "flex_flow": null,
            "width": null,
            "min_width": null,
            "border": null,
            "align_items": null,
            "bottom": null,
            "_model_module": "@jupyter-widgets/base",
            "top": null,
            "grid_column": null,
            "overflow_y": null,
            "overflow_x": null,
            "grid_auto_flow": null,
            "grid_area": null,
            "grid_template_columns": null,
            "flex": null,
            "_model_name": "LayoutModel",
            "justify_items": null,
            "grid_row": null,
            "max_height": null,
            "align_content": null,
            "visibility": null,
            "align_self": null,
            "height": null,
            "min_height": null,
            "padding": null,
            "grid_auto_rows": null,
            "grid_gap": null,
            "max_width": null,
            "order": null,
            "_view_module_version": "1.2.0",
            "grid_template_areas": null,
            "object_position": null,
            "object_fit": null,
            "grid_auto_columns": null,
            "margin": null,
            "display": null,
            "left": null
          }
        },
        "66814474944d4aaaa95cb7584e234d1b": {
          "model_module": "@jupyter-widgets/controls",
          "model_name": "FloatSliderModel",
          "state": {
            "_view_name": "FloatSliderView",
            "style": "IPY_MODEL_dacebcaf7742414188fa63224c293ea7",
            "_dom_classes": [],
            "description": "JE",
            "step": 0.1,
            "_model_name": "FloatSliderModel",
            "orientation": "horizontal",
            "max": 6,
            "_view_module": "@jupyter-widgets/controls",
            "_model_module_version": "1.5.0",
            "value": 5,
            "_view_count": null,
            "disabled": false,
            "_view_module_version": "1.5.0",
            "min": 0,
            "continuous_update": true,
            "readout_format": ".2f",
            "description_tooltip": null,
            "readout": true,
            "_model_module": "@jupyter-widgets/controls",
            "layout": "IPY_MODEL_419e799693fc439ca636a55314f7911e"
          }
        },
        "072a7b2d254c4c33bfb15782bcaacac1": {
          "model_module": "@jupyter-widgets/controls",
          "model_name": "FloatSliderModel",
          "state": {
            "_view_name": "FloatSliderView",
            "style": "IPY_MODEL_789018fe5331445ab620a51bcd3a03b0",
            "_dom_classes": [],
            "description": "JI",
            "step": 0.1,
            "_model_name": "FloatSliderModel",
            "orientation": "horizontal",
            "max": 6,
            "_view_module": "@jupyter-widgets/controls",
            "_model_module_version": "1.5.0",
            "value": 1,
            "_view_count": null,
            "disabled": false,
            "_view_module_version": "1.5.0",
            "min": 0,
            "continuous_update": true,
            "readout_format": ".2f",
            "description_tooltip": null,
            "readout": true,
            "_model_module": "@jupyter-widgets/controls",
            "layout": "IPY_MODEL_cfaf88ca85354c60a9c31dd441e8a3e4"
          }
        },
        "e973d2aad7dd49e8a56d0bb961149782": {
          "model_module": "@jupyter-widgets/controls",
          "model_name": "FloatSliderModel",
          "state": {
            "_view_name": "FloatSliderView",
            "style": "IPY_MODEL_5124bf46185f4a2585bf976589822ca8",
            "_dom_classes": [],
            "description": "I1",
            "step": 0.1,
            "_model_name": "FloatSliderModel",
            "orientation": "horizontal",
            "max": 6,
            "_view_module": "@jupyter-widgets/controls",
            "_model_module_version": "1.5.0",
            "value": 2,
            "_view_count": null,
            "disabled": false,
            "_view_module_version": "1.5.0",
            "min": -6,
            "continuous_update": true,
            "readout_format": ".2f",
            "description_tooltip": null,
            "readout": true,
            "_model_module": "@jupyter-widgets/controls",
            "layout": "IPY_MODEL_95ca5e1a970949b0aec8ef0b086e0894"
          }
        },
        "8b6b510ebf3143519a1fda774c112869": {
          "model_module": "@jupyter-widgets/controls",
          "model_name": "FloatSliderModel",
          "state": {
            "_view_name": "FloatSliderView",
            "style": "IPY_MODEL_d8b3d9234e5644628896df1efde90621",
            "_dom_classes": [],
            "description": "I2",
            "step": 0.1,
            "_model_name": "FloatSliderModel",
            "orientation": "horizontal",
            "max": 6,
            "_view_module": "@jupyter-widgets/controls",
            "_model_module_version": "1.5.0",
            "value": 1,
            "_view_count": null,
            "disabled": false,
            "_view_module_version": "1.5.0",
            "min": -6,
            "continuous_update": true,
            "readout_format": ".2f",
            "description_tooltip": null,
            "readout": true,
            "_model_module": "@jupyter-widgets/controls",
            "layout": "IPY_MODEL_ab04353681d24477b0913a3fb4b5031a"
          }
        },
        "b65ee15c6934402da2c9e7d1d2282615": {
          "model_module": "@jupyter-widgets/output",
          "model_name": "OutputModel",
          "state": {
            "_view_name": "OutputView",
            "msg_id": "",
            "_dom_classes": [],
            "_model_name": "OutputModel",
            "outputs": [
              {
                "output_type": "display_data",
                "metadata": {
                  "tags": [],
                  "needs_background": "light"
                },
                "image/png": "iVBORw0KGgoAAAANSUhEUgAAAXIAAAD7CAYAAAB37B+tAAAABHNCSVQICAgIfAhkiAAAAAlwSFlzAAALEgAACxIB0t1+/AAAADh0RVh0U29mdHdhcmUAbWF0cGxvdGxpYiB2ZXJzaW9uMy4yLjIsIGh0dHA6Ly9tYXRwbG90bGliLm9yZy+WH4yJAAAgAElEQVR4nO3dd3xUVd7H8c/JpJFOSKgJhNAJVaMgqKCAIiCoq4+rawMVXdcVe1lsq66uvazuIjaU1bU9LqioKypdQEFBISC9t4QWCKTNnOePC4/oopSZzJ2b+b5fr/vKnclw7+8qfHNy7jnnGmstIiLiXTFuFyAiIsFRkIuIeJyCXETE4xTkIiIepyAXEfE4BbmIiMeFJMiNMRnGmHeNMYuNMYuMMSeE4rgiInJosSE6ztPAJ9bac40x8UBSiI4rIiKHYIKdEGSMSQfmAfn2MA+WlZVl8/LygjqviEi0mTt3bom1Nvvn74eiRd4cKAZeMcZ0BuYCI6y1Zb/0B/Ly8pgzZ04ITi0iEj2MMasP9n4o+shjgWOAf1hruwJlwO0HKWC4MWaOMWZOcXFxCE4rIiIQmiBfB6yz1s7e9/pdnGD/CWvtaGttobW2MDv7v34zEBGRoxR0kFtrNwFrjTFt9r3VBygK9rgiInJ4QjVq5Y/A6/tGrKwAhobouCIicgghCXJr7TygMBTHEhGRI6OZnSIiHqcgFxHxuFD1kYvIkQgEoKQENm+G4mLYuRN27XK2igqorISqKvD7wVpnMwZiYsDnc7bY2B+3uLifbvHxB9//+WcPPEZs7I/H3X+O/VtMjHN+iUgKcpGa5PdDURF8/TXMmwdLl8KyZbBqFVRXu13dkTHmx1D/pW3/Dxtj/ns78IfBgV8P3A48188/ezT7P6//cK4xVH7pWP/4B5x4YujOg4JcJPRWroSPP4aPPoLJk6Fs3yTnlBRo3RqOPRbOOw8aNYIGDaB+fcjIgNRU5zOJiT+2on2+nwZCIOD8cAgEnB8EVVU/fj1w29+i//n+gZ/dv+/3/3R//+v9+/vPt3/f2h9fH2w/EPjxt4gDt0DAuYb9K3n8/Pv7Hfj65+8fyf6BDmf1kFA+v/jXjpWcHLrz7KMgFwmF0lJ480146SX46ivnvRYt4NJL4YQT4LjjoFUrp1UajP0tX4CEhOCOJbWGglwkGGvXwl//CmPGwJ490KEDPPYYDB7sBLdIGCjIRY7Ghg3wl7/Aiy86v0ZffDFcdZXT8tZNQQkzBbnIkfD74bnnYORIZ3TJsGFwxx3QrJnblUkUU5CLHK558+CKK2DuXOjf3wn0/Hy3qxLRhCCRQ7LWCe1u3WD9enjrLWdEikJcIoRa5CK/prQUrrwS3n4bzjgDXnsNsrLcrkrkJxTkIr9kzRqnC2XJEnjoIbj11uCHD4rUAAW5yMF8953TAi8rg4kT4ZRT3K5I5BepeSHyc5MmwUknOcMIp01TiEvEU5CLHOjzz52WeE4OzJwJHTu6XZF4XJU/wPNTlvP5os01dg4Fuch+U6bAmWc6MzKnTIHcXLcrEo+bvWIrA5+ZxkMfL2byDzX30Hn1kYsAfPklDBwIeXlOq1wjUyQIJbsrePCjRbz3zXqaZNThxUsK6du+QY2dT0EusmABDBgAjRs7IV6/vtsVicdNW1rMB/M38IdTWnDtKa2oE++r0fMpyCW6bdjghHhSEnz2mbO0rMhR+H7dTlZvK2NQp8ac1aUJxzbNpGm9pLCcW0Eu0Wv3bhg0CLZvh6lToWlTtysSD9q5t4rHP/2BsbNWk1cvmf4FDYn1xYQtxEFBLtHK74fzz3fGi3/wAXTt6nZF4jHWWsbNW89fJixiW1kll3Rvxk2ntyHWF/4xJApyiU4jRzrrpYwa5Qw3FDlCCzeUcsNb8+mcm8GYocfToUm6a7UoyCX6vP02PPwwXH21s4a4yGHaU1nNzOVb6dOuAR2apPPGFd3oll8PX4y7a9BrHLlEl+++g6FDoUcPePppt6sRD/l04Sb6PTGV4WPnsmHHXgB6tMxyPcRBLXKJJtu3w9lnQ3o6vPuu84BjkUNYu20Pf/5gIZ8t2kKbBqn868ruNM6o43ZZP6Egl+hgrfM0nzVrnFmbGmYoh6GsoppBf5tOlT/Anwa0ZWjP5sS5cDPzUBTkEh2eeQbGjYPHH3e6VUR+xcINOylonE5yQiwPndORLrkZEdcKP1Dk/WgRCbWvvoJbbnHWUbnhBrerkQi2pbScEW9+y8BnpjPphy0ADOjYKKJDHELYIjfG+IA5wHpr7aBQHVckKDt2OOPFGzWCMWP0hHs5KH/A8s9Zq3nsPz9QUR3guj6tOCG/nttlHbZQdq2MABYBaSE8psjRsxaGD4d165x1xTMz3a5IItSwMV8zZUkxJ7XK4r4hHWielex2SUckJEFujMkBBgJ/AW4MxTFFgvbyy/DOO/Dgg9C9u9vVSITZuaeK5AQfsb4Yzj8ul/MKcxjYsRHGg7+1haqP/CngViDwSx8wxgw3xswxxswpLq65dXlFAFi8GK67Dk491XnWpsg+1lrenbuOUx+fzNhZqwGnH3xQp8aeDHEIQZAbYwYBW6y1c3/tc9ba0dbaQmttYXZ2drCnFfllFRVwwQVQpw6MHQu+ml1CVLzjh027OP/5Wdz8znya1UuiW3Pv9IP/mlB0rfQEBhtjBgCJQJox5p/W2otCcGyRIzdyJMybB+PHO2uMiwCvzFjJAxMWkZYYyyO/6cS5x+YQEwGzMkMh6CC31t4B3AFgjOkN3KwQF9dMnOiMFb/mGhg82O1qxGXWWqoDljhfDO0apXHuMTncfkZb6ibXrlm9mhAktUdJCVx6KbRrB48+6nY14rLVW8u45/2F5GelcPeZ7emeX4/uHhpSeCRCGuTW2snA5FAeU+SwWAtXXAFbt8LHHztP/JGoVF7lZ/TUFTw7aRlxMYberWv/PTm1yKV2GD3a6RN/4gno3NntasQl89bu4Ia35rGypIxBnRpx58D2NExPdLusGqcgF+8rKnKm3p92GowY4XY14qK0xFjifTG8Nux4To6Clvh+CnLxtvJyZ6hhSgq8+irEaPmgaFLtDzDmy1UUbSjlifO7kJ+dwifXn+TZ8eBHS0Eu3nb77c7DIiZMgIYN3a5Gwmju6m2M/PcCFm/aRe822ZRX+UmM80VdiIOCXLxswgTnKT/XXQcDBrhdjYTJzj1VPPjRIt6as5ZG6YmMuugYTi9oGJUBvp+CXLxp3TpnqGGnTs7zNyVqBKzlix+2cNXJ+VzXpxXJCYox/RcQ76muhgsvdPrH334bEmv/qIRoV7ShlLGzVvHAWR2pmxzPlFt6kxSv+NpP/yXEe+67z1mWduxYaNPG7WqkBu0qr+LJiUsZ8+VK6ibFc/mJzWlZP1Uh/jP6ryHe8tln8MADMHQoXKSVIGoray0Tvt/I/R8WsWVXBRce35RbT29LelKc26VFJAW5eMeaNc5Qw3bt4G9/c7saqUHVAcuTE5eQnZrA8xcX0iU3w+2SIpqCXLyhogLOPdf5+t57kOytJ7jIoZVX+Xlp+kou7ZFHSkIsYy/vRoO0RHy1ZIXCmqQgF28YMQK+/toJcfWL1zqTFm/h7vcXsHbbXhpnJHJ215yIf+BxJFGQS+R7+WV4/nln8s/ZZ7tdjYTQhh17ue+DIj5ZuIkW2cm8cWU3erTIcrssz1GQS2SbOhWuvhr69YP773e7Ggmxu8cvZPqyYm45vQ1XnpRPfKyWWDgaCnKJXMuXwznnQH6+M148Vn9da4PZK7aSm5lE44w63HNmewByM7XscDD0408i086dcOaZEAjAhx9ChkYteF3J7gpuens+54+exXOTlgFOgCvEg6cmjkSeigr4zW9g6VLn0W0tW7pdkQTBH7D866s1PPLJYvZW+bmmdwv+eGort8uqVRTkEln8fmeiz+efO8vS9u7tdkUSpH9MXsZjny6he34mD5zVgZb1U90uqdZRkEvksBauvRbefRceewwuucTtiuQo7dxbxfaySvKykvldt2bkZiYxuHPjqF6hsCapj1wig7Vw550wahTcdhvcdJPbFclRsNYyft56+jw+hRFvzcNaS93keIZ0aaIQr0FqkYv79of4gw86D1B+6CG3K5KjsGzLLu4at5CZK7bSOSedB4Z0UHiHiYJc3GWtM9HnkUfgyiudFrn+8XvOzOVbueTl2dSJ8/HAWR244PimmlofRgpycU8gADfe6Dzl5/e/h2ef1TM3PaZkdwVZKQkc0yyDy0/M54qTmpOVkuB2WVFHQS7uKC+Hiy92bmyOGAFPPqmWuIes276He98vYuGGnXx2Yy+SE2K5/Yy2bpcVtRTkEn5bt8KQITBjhjM65cYbFeIeUVkd4IVpK/jbF0uJMYbr+7bStPoIoCCX8Jo/31mOdu1aZ9r9eee5XZEcppLdFZz//EyWF5fRv6Ahd5/ZXisURggFuYTPmDFOX3hmJnzxBfTo4XZFchgqqwPEx8ZQLzmeY5rWZeTAdpzatoHbZckB9DuR1LzSUhg2zHk8W8+e8O23CnEP8Acsr365ipMfmcTGnXsxxvDoeZ0V4hEo6Ba5MSYXeA1oAFhgtLX26WCPK7XExInO2PB165yx4vfeCz6f21XJIcxbu4M7x33PgvWlnNgyi2q/dbsk+RWh6FqpBm6y1n5jjEkF5hpjJlpri0JwbPGq4mL405/gxRehbVvnxmb37m5XJYcQCFjufn8Br89eQ3ZKAs9e2JWBHRtpYk+ECzrIrbUbgY379ncZYxYBTQAFeTSqrITnnoM//xl274ZbbnH26+immBfExBj8AcvQHs25oV8rUhP11HovCOnNTmNMHtAVmB3K44oHVFfDv/7lPMVn6VI4/XR44glo397tyuQQfti0i3veX8DIAe3pmJPOg2d3VAvcY0IW5MaYFOB/geuttaUH+f5wYDhA06ZNQ3VacVt5Obz+urM+yvLl0KmT8yCIAQM0NjzClVVU88znS3lp+kpSEmPZVFpOR9IV4h4UkiA3xsThhPjr1tr3DvYZa+1oYDRAYWGh7px43YoVzrooL70E27bBscfCuHHOU300zT7iTSzazD3jF7BhZznnF+Zy2xltyUyOd7ssOUqhGLVigJeARdbaJ4IvSSJWcbEzpf6NN2D6dGf0yVlnwTXXwCmnqAXuIYs3lpJWJ45nLuhKYV6m2+VIkIy1wTWOjTEnAtOA74HAvrf/ZK396Jf+TGFhoZ0zZ05Q55UwsBaKimDCBGebMcN5gk/79nDhhXDZZdCkidtVymGoqPbz/JQVtGuURr/2DaisDhBjINan3568xBgz11pb+PP3QzFqZTqgplhtUFEBCxbArFkwZQpMnQqbNzvf69zZeeDD+edDx45qfXvI9KUl3DV+AStLyhjaM49+7RtofZRaRlP0o5Hf70zQWbwYFi50tvnz4bvvoKrK+UxuLvTrB716Qf/+kJPjbs1yxDaXlnP/h0V8+N1G8uol8eqw4+nVOtvtsqQGKMhrm8pKZ3XBzZth0ybYuBHWr3cWqVqzBlatcm5UVlb++Gfq13da2TfeCIWFcNxx0KyZa5cgoTFz+VY+LdrMDX1bc1WvfBLjNKO2tlKQh4O1TivY73fGW1dV/XSrrHS2igpnKy93vu7ZA3v3OltZ2Y/brl3OVloKO3bA9u3O161bnfcOJjsbmjZ1+rcHD4aWLaFVKygocL4ntcLc1dtZt30PQ7o0YUiXxhzfPFMrFEYBbwX5ww87oyb2O/BG7aH2rf319w9nCwR+/Hrgvt//43v79/cH9/4tVHw+SE2FtDTna0aGc8OxoADq1YOsLGfLzoZGjZytYUPNrKzltpdV8vAni3nz67W0rJ/CoE6N8cUYhXiU8FaQp6Y63QAHOvCm26H2jfn19w+1xcQ424H7+zef77/3fT6IjXW++nwQF+e8jo119vdvCQkQH+9siYnO64QEJ3z3b8nJkJLifEY3GmWfQMDyzty1/PXjxZSWV3PlSc25vm9rPS8zyngryK+5xtlEBICFG0q57X+/57i8utx/VgfaNkxzuyRxgbeCXETYXVHN9KUl9O/QkI456bxz9QkUNqurqfVRTINJRTzCWsuE7zbS5/HJXPvGN2zYsReA4/IyFeJRTi1yEQ9YWVLG3eMXMG1pCQWN0/jHRcfqRqb8PwW5SITbXVHN4Geng4V7z2zPRd2baWq9/ISCXCRCzV+7g865GaQkxPLYeZ3pmptB/bREt8uSCKQf6yIRZsOOvfz+n3MZ8twMJv2wBYDTCxoqxOUXqUUuEiGq/AHGzFjFk58twR+w3HJ6G3q0qOd2WeIBCnKRCHHZK18xY9lW+rStz72DC8jNTHK7JPEIBbmIi7aVVZKWGEusL4aLu+dx6QnOMrMaTihHQn3kIi4IBCyvz17NKY9N5tWZqwHo36EhpxU0VIjLEVOLXCTMFqzfychxC5i/dgfd8zPp1TrL7ZLE4xTkImH0wtQVPPTxIjKT43nq/C4M6dJYLXAJmoJcpIZZa6nyW+JjY+iUk87vujXj5tPbkF4nzu3SpJZQkIvUoGVbdnP3+AW0aZjKPWcW0C2/Ht3yNaRQQktBLlID9lb6eXbSUkZPXUFinI+BnRq5XZLUYgpykRCbu3obI96cx7rtezmnaxPuGNCO7NQEt8uSWkxBLhIi1lqMMdRLTiAjKY7HzutMd3WjSBgoyEWCVFkd4MXpK1i8cRfPXNCVvKxkPrj2RI1GkbBRkIsE4cvlJdw1bgHLi8s4vaAB5VV+EuN8CnEJKwW5yFHYXlbJfR8W8e9v15ObWYeXLyvk1LYN3C5LopSCXOQoxBjDrBVbue7UllxzSksS43xulyRRTEEucpjmr93BazNX8/BvOpKeFMekm3srwCUiKMhFDmHnnioe/XQxr89eQ1ZKAmu27SE/O0UhLhEjJEFujOkPPA34gBettX8NxXFF3GSt5b1v1vPgR4vYvqeSy3rkcUO/1qQlamq9RJagg9wY4wOeA/oB64CvjTHvW2uLgj22iJuqA5Z/TFlO03pJvHb58RQ0Tne7JJGDCkWL/HhgmbV2BYAx5k1gCKAgF8/ZU1nNC1NXMuzEPFIT43j9im5kpyQQE6PhhBK5QhHkTYC1B7xeB3T7+YeMMcOB4QBNmzYNwWlFQsday6dFm/nz+wvZsLOc5tnJDO7cmAZ64LF4QNhudlprRwOjAQoLC224zityKGu27uHeDxbyxeIttG2YyjMXdKUwL9PtskQOWyiCfD2Qe8DrnH3viXjCfR8uZPaKrYwc0I7LeuYR59MTEMVbQhHkXwOtjDHNcQL8t8CFITiuSI2ZvrSEvKwkcuomce/gAnwxhkbpddwuS+SoBN30sNZWA9cC/wEWAW9baxcGe1yRmrC5tJxr3/iGi16azagpywHIqZukEBdPC0kfubX2I+CjUBxLpCZU+wO8NnM1T0xcQqU/wPV9W3F1rxZulyUSEprZKVHh75OX88TEJZzcOpv7BheQl5XsdkkiIaMgl1pre1kl2/dUkp+dwiUnNKNV/RT6d2ioJWal1tHteal1AgHL23PW0ueJKdzw9nystWQkxXNGx0YKcamV1CKXWmXRxlLuGreAOau3U9isLg+c3UHhLbWeglxqjS+XlXDxy1+RXieOR37TiXOPzdHUeokKCnLxNGstW3ZV0CAtkcK8TK7p3YJhPZtTNzne7dJEwkZ95OJZq0rKuPSVrxny7Ax2V1QTHxvDTae1UYhL1FGLXDynvMrPqCnL+fvk5cT7YrjptNYkxqpNItFLQS6esmVXOeeNmsnqrXsY3Lkxdw5sR32tUChRTkEunlBe5Scxzkd2SgI9WmTxl7MacWKrLLfLEokI+n1UIlqVP8CL01Zw0iOT2LBjL8YYHjqno0Jc5ABqkUvE+nrVNu4at4DFm3Zxatv6bpcjErEU5BJxAgHLHe99z1tz1tIkow6jLz6Wfu0baGKPyC9QkEvEsNZijCEmxhAXa7iqVz4j+rQiKV5/TUV+jf6FSERYsH4n97y/kLsHtadzbgb3D9HUepHDpSAXV+0qr+LxT5fw2sxVZCbHs62sEkAhLnIEFOTimo++38i97y+keHcFF3Vrxs2ntSE9Kc7tskQ8R0EurllZUkaDtEReuKSQzrkZbpcj4lkKcgmbvZV+npu0jI456Zxe0JDhJ+dzda8W+LRCoUhQNCFIwuKLxZvp9+QUnp20jG9WbwcgzhejEBcJAbXIpUat276H+z4o4tOizbSsn8Kbw7vTPb+e22WJ1CoKcqlRc1dvZ9rSEm7r35bLT2xOvFYpFAk5BbmE3KwVW9mwYy/nHJPD4M6NOSG/nlYoFKlBCnIJmeJdFTz40SL+/e162jZMZUiXJvhijEJcpIYpyCVo/oDljdmreeQ/P1Be5efaU1ryh1Na6kamSJgoyCVoRRtKuWv8Qnq2rMd9QzrQIjvF7ZJEooqCXI7Kzr1VTFtazKBOjemYk86/r+lBl9wMTa0XcYGCXI6ItZZx89bzlwmL2Lm3isJmmTRMT6Rr07pulyYStYIKcmPMo8CZQCWwHBhqrd0RisIk8izdvIs7xy1g9sptdMnNYMzQDjRM141MEbcFO6h3ItDBWtsJWALcEXxJEol2lVdxzt+/ZPGmXTx0Tkfe+30POjRJd7ssESHIFrm19tMDXs4Czg2uHIkk1lrmrt7Osc3qkpoYx1O/7UKX3AzqpSS4XZqIHCCU0+yGAR+H8HjiojVb93D5q3M4d9RMpiwpBqBPuwYKcZEIdMgWuTHmM6DhQb410lo7ft9nRgLVwOu/cpzhwHCApk2bHlWxUvMqqv28MHUFf/tiGb4Yw8gB7ejZUk+sF4lkhwxya23fX/u+MeYyYBDQx1prf+U4o4HRAIWFhb/4OXHXJS99xeyV2xjQsSF3DWpPo/Q6bpckIocQ7KiV/sCtQC9r7Z7QlCThtmVXOZlJ8cT6YrjipHx+37sFvdvUd7ssETlMwfaRPwukAhONMfOMMaNCUJOESbU/wCszVtLnsSmM+XIVAP3aN1CIi3hMsKNWWoaqEAmvb9ds585xC1i4oZSTW2fTt10Dt0sSkaOkmZ1R6O+Tl/Hof36gfmoCf//dMZzRoaGm1ot4mII8SgQClkp/gMQ4H8flZXJ5z+Zc3681KQn6KyDidfpXHAUWbyrlrnELKGiczr2DCzguL5Pj8jLdLktEQkRBXovtrqjm6c+W8PKMVaQlxvI/hblulyQiNUBBXkt9tXIb1/3rWzaVlvPb43K5rX9b6ibHu12WiNQABXktY63FGEODtAQaZSTy3O+O4dhmWmJWpDZTkNcS5VV+Rk1ZzpLNu3juwmNoVi+Z937fQ6NRRKJAKBfNEpdMXVJM/6em8tRnS/HFxFBRHQBQiItECbXIPaxkdwX3jF/IhO83kp+VzNjLj+ekVtlulyUiYaYg97C4mBjmrd3BTf1aM7xXPgmxPrdLEhEXKMg9Zs6qbYydtZrHz+tMelIck27uTXyseshEopmC3CO2lVXy0EeLeGfuOhqnJ7J2+16aZyUrxEVEQR7pAgHLW3PW8vAni9ldXs1VvfK57tRWJGtqvYjsozSIcH5reWXGSlo3SOWBszrQukGq2yWJSIRRkEegXeVVjJqynKt6tSAtMY7Xr+hOVkq8hhOKyEEpyCOItZYPv9vI/R8WUby7gvaN0hnYqRHZqXrgsYj8MgV5hFhRvJt73l/ItKUldGySzguXFNI5N8PtskTEAxTkEeLBjxYxb+0O7htSwO+6NcMXo24UETk8CnIXTVq8hZb1U8jNTOLPQzoQ5zPUT010uywR8RgNQnbB+h17uWrsHIaO+ZoXpq0AoElGHYW4iBwVtcjDqMof4OXpK3nqs6VYLLf2b8MVJ+a7XZaIeJyCPIye/WIZT3++lL7tGnDv4Pbk1E1yuyQRqQUU5DWsZHcFO/ZU0bJ+CsN6NqdTTjp92jVwuywRqUXUR15D/AHL2FmrOfWxydz0znystaQnxSnERSTk1CKvAd+v28md475n/rqdnJBfj/vPKtCsTBGpMQryEJu2tJhLXv6KeskJPP3bLgzu3FghLiI1SkEeAtZaNuwsp0lGHbo1r8cNfVtzaY880uvEuV2aiEQB9ZEHadmWXVzwwizOfm4GuyuqiY+N4bo+rRTiIhI2apEfpT2V1fzti2W8OG0FdeJ83HZGW+rE6VFrIhJ+IQlyY8xNwGNAtrW2JBTHjGRbSss5++9fsn7HXs49Nofbz2hLVopWKBQRdwQd5MaYXOA0YE3w5US2vZV+6sT7yE5NoE+7+gzq1Jjjm2e6XZaIRLlQ9JE/CdwK2BAcKyJVVPt5btIyej78Beu278EYw31DOijERSQiBNUiN8YMAdZba+cfaoidMWY4MBygadOmwZw2rL5cVsKd4xeworiM/gUNifPp/rCIRJZDBrkx5jOg4UG+NRL4E063yiFZa0cDowEKCwsjvvUeCFhuemc+//52PU0zk3hl6HGc0qa+22WJiPyXQwa5tbbvwd43xnQEmgP7W+M5wDfGmOOttZtCWmUYWev8jDEG0uvEcd2pLbnmlJYkakSKiESoo+5asdZ+D/x/E9UYswoo9PKolW/XbOee9xfy58EFdG1al3sHF7hdkojIIWkcObBjTyWP/OcH/vXVGuqnJrCrvNrtkkREDlvIgtxamxeqY4XT+Hnrue+DInbsrWJYz+Zc37cVqYmalSki3hH1LfL1O/bSrF4SY8/qSPvGaW6XIyJyxKIuyMsqqnn686V0zc3gjI6NGH5SPlef3IIYPbVeRDwqagZFW2v5+PuN9H1iCqOnrmDBhp0AxPpiFOIi4mlR0SJfvbWMu8cvZMqSYto1SuPZC4/h2GZ13S5LRCQkoiLIv1u3kzmrtnHXoPZcekIzYjU7U0RqkVob5FOXFLOptJz/KcxlUKdGnNCinlYoFJFaqdYF+aad5dw/oYgJ322koHEa5x6TQ0yMUYiLSK1Va4K82h9gzJereHLiEqoClhv6tuaqXvm6kSkitV6tCfKijaU8MGERp7TJ5t7BBTSrl+x2SSIiYeHpIN9WVsm0pcUM6dKETjkZfPjHEylonKan1otIVPFkkAcClrfnrOWvnyxmT4Wf7vn1aJCWSHGC0bEAAANlSURBVIcm6W6XJiISdp4L8qINpdw57nu+WbOD4/Lq8sBZHWmQluh2WSIirvFUkJeWV/E/z88kITaGx87rzG+OaaJuFBGJep4K8rTEOJ69sCtdcjPISIp3uxwRkYjgqSAH6K3HrYmI/ITmqouIeJyCXETE4xTkIiIepyAXEfE4BbmIiMcpyEVEPE5BLiLicQpyERGPM9ba8J/UmGJgddhPHLwsoMTtIsIsGq8ZovO6o/GawVvX3cxam/3zN10Jcq8yxsyx1ha6XUc4ReM1Q3RedzReM9SO61bXioiIxynIRUQ8TkF+ZEa7XYALovGaITqvOxqvGWrBdauPXETE49QiFxHxOAX5UTLG3GSMscaYLLdrqWnGmEeNMYuNMd8ZY/5tjMlwu6aaYozpb4z5wRizzBhzu9v1hIMxJtcYM8kYU2SMWWiMGeF2TeFijPEZY741xnzodi3BUJAfBWNMLnAasMbtWsJkItDBWtsJWALc4XI9NcIY4wOeA84A2gMXGGPau1tVWFQDN1lr2wPdgT9EyXUDjAAWuV1EsBTkR+dJ4FYgKm4wWGs/tdZW73s5C8hxs54adDywzFq7wlpbCbwJDHG5phpnrd1orf1m3/4unGBr4m5VNc8YkwMMBF50u5ZgKciPkDFmCLDeWjvf7VpcMgz42O0iakgTYO0Br9cRBYF2IGNMHtAVmO1uJWHxFE6DLOB2IcHy3DM7w8EY8xnQ8CDfGgn8CadbpVb5tWu21o7f95mROL+Gvx7O2iQ8jDEpwP8C11trS92upyYZYwYBW6y1c40xvd2uJ1gK8oOw1vY92PvGmI5Ac2C+MQacLoZvjDHHW2s3hbHEkPula97PGHMZMAjoY2vvmNX1QO4Br3P2vVfrGWPicEL8dWvte27XEwY9gcHGmAFAIpBmjPmntfYil+s6KhpHHgRjzCqg0FrrlQV3jooxpj/wBNDLWlvsdj01xRgTi3Mztw9OgH8NXGitXehqYTXMOK2SV4Ft1trr3a4n3Pa1yG+21g5yu5ajpT5yORzPAqnARGPMPGPMKLcLqgn7buheC/wH54bf27U9xPfpCVwMnLrv/++8fS1V8Qi1yEVEPE4tchERj1OQi4h4nIJcRMTjFOQiIh6nIBcR8TgFuYiIxynIRUQ8TkEuIuJx/weUogTrDZX9IQAAAABJRU5ErkJggg==\n",
                "text/plain": "<Figure size 432x288 with 1 Axes>"
              }
            ],
            "_view_module": "@jupyter-widgets/output",
            "_model_module_version": "1.0.0",
            "_view_count": null,
            "_view_module_version": "1.0.0",
            "layout": "IPY_MODEL_38a13ae0d08f48e79d59ac3d5a88d54d",
            "_model_module": "@jupyter-widgets/output"
          }
        },
        "dacebcaf7742414188fa63224c293ea7": {
          "model_module": "@jupyter-widgets/controls",
          "model_name": "SliderStyleModel",
          "state": {
            "_view_name": "StyleView",
            "handle_color": null,
            "_model_name": "SliderStyleModel",
            "description_width": "",
            "_view_module": "@jupyter-widgets/base",
            "_model_module_version": "1.5.0",
            "_view_count": null,
            "_view_module_version": "1.2.0",
            "_model_module": "@jupyter-widgets/controls"
          }
        },
        "419e799693fc439ca636a55314f7911e": {
          "model_module": "@jupyter-widgets/base",
          "model_name": "LayoutModel",
          "state": {
            "_view_name": "LayoutView",
            "grid_template_rows": null,
            "right": null,
            "justify_content": null,
            "_view_module": "@jupyter-widgets/base",
            "overflow": null,
            "_model_module_version": "1.2.0",
            "_view_count": null,
            "flex_flow": null,
            "width": null,
            "min_width": null,
            "border": null,
            "align_items": null,
            "bottom": null,
            "_model_module": "@jupyter-widgets/base",
            "top": null,
            "grid_column": null,
            "overflow_y": null,
            "overflow_x": null,
            "grid_auto_flow": null,
            "grid_area": null,
            "grid_template_columns": null,
            "flex": null,
            "_model_name": "LayoutModel",
            "justify_items": null,
            "grid_row": null,
            "max_height": null,
            "align_content": null,
            "visibility": null,
            "align_self": null,
            "height": null,
            "min_height": null,
            "padding": null,
            "grid_auto_rows": null,
            "grid_gap": null,
            "max_width": null,
            "order": null,
            "_view_module_version": "1.2.0",
            "grid_template_areas": null,
            "object_position": null,
            "object_fit": null,
            "grid_auto_columns": null,
            "margin": null,
            "display": null,
            "left": null
          }
        },
        "789018fe5331445ab620a51bcd3a03b0": {
          "model_module": "@jupyter-widgets/controls",
          "model_name": "SliderStyleModel",
          "state": {
            "_view_name": "StyleView",
            "handle_color": null,
            "_model_name": "SliderStyleModel",
            "description_width": "",
            "_view_module": "@jupyter-widgets/base",
            "_model_module_version": "1.5.0",
            "_view_count": null,
            "_view_module_version": "1.2.0",
            "_model_module": "@jupyter-widgets/controls"
          }
        },
        "cfaf88ca85354c60a9c31dd441e8a3e4": {
          "model_module": "@jupyter-widgets/base",
          "model_name": "LayoutModel",
          "state": {
            "_view_name": "LayoutView",
            "grid_template_rows": null,
            "right": null,
            "justify_content": null,
            "_view_module": "@jupyter-widgets/base",
            "overflow": null,
            "_model_module_version": "1.2.0",
            "_view_count": null,
            "flex_flow": null,
            "width": null,
            "min_width": null,
            "border": null,
            "align_items": null,
            "bottom": null,
            "_model_module": "@jupyter-widgets/base",
            "top": null,
            "grid_column": null,
            "overflow_y": null,
            "overflow_x": null,
            "grid_auto_flow": null,
            "grid_area": null,
            "grid_template_columns": null,
            "flex": null,
            "_model_name": "LayoutModel",
            "justify_items": null,
            "grid_row": null,
            "max_height": null,
            "align_content": null,
            "visibility": null,
            "align_self": null,
            "height": null,
            "min_height": null,
            "padding": null,
            "grid_auto_rows": null,
            "grid_gap": null,
            "max_width": null,
            "order": null,
            "_view_module_version": "1.2.0",
            "grid_template_areas": null,
            "object_position": null,
            "object_fit": null,
            "grid_auto_columns": null,
            "margin": null,
            "display": null,
            "left": null
          }
        },
        "5124bf46185f4a2585bf976589822ca8": {
          "model_module": "@jupyter-widgets/controls",
          "model_name": "SliderStyleModel",
          "state": {
            "_view_name": "StyleView",
            "handle_color": null,
            "_model_name": "SliderStyleModel",
            "description_width": "",
            "_view_module": "@jupyter-widgets/base",
            "_model_module_version": "1.5.0",
            "_view_count": null,
            "_view_module_version": "1.2.0",
            "_model_module": "@jupyter-widgets/controls"
          }
        },
        "95ca5e1a970949b0aec8ef0b086e0894": {
          "model_module": "@jupyter-widgets/base",
          "model_name": "LayoutModel",
          "state": {
            "_view_name": "LayoutView",
            "grid_template_rows": null,
            "right": null,
            "justify_content": null,
            "_view_module": "@jupyter-widgets/base",
            "overflow": null,
            "_model_module_version": "1.2.0",
            "_view_count": null,
            "flex_flow": null,
            "width": null,
            "min_width": null,
            "border": null,
            "align_items": null,
            "bottom": null,
            "_model_module": "@jupyter-widgets/base",
            "top": null,
            "grid_column": null,
            "overflow_y": null,
            "overflow_x": null,
            "grid_auto_flow": null,
            "grid_area": null,
            "grid_template_columns": null,
            "flex": null,
            "_model_name": "LayoutModel",
            "justify_items": null,
            "grid_row": null,
            "max_height": null,
            "align_content": null,
            "visibility": null,
            "align_self": null,
            "height": null,
            "min_height": null,
            "padding": null,
            "grid_auto_rows": null,
            "grid_gap": null,
            "max_width": null,
            "order": null,
            "_view_module_version": "1.2.0",
            "grid_template_areas": null,
            "object_position": null,
            "object_fit": null,
            "grid_auto_columns": null,
            "margin": null,
            "display": null,
            "left": null
          }
        },
        "d8b3d9234e5644628896df1efde90621": {
          "model_module": "@jupyter-widgets/controls",
          "model_name": "SliderStyleModel",
          "state": {
            "_view_name": "StyleView",
            "handle_color": null,
            "_model_name": "SliderStyleModel",
            "description_width": "",
            "_view_module": "@jupyter-widgets/base",
            "_model_module_version": "1.5.0",
            "_view_count": null,
            "_view_module_version": "1.2.0",
            "_model_module": "@jupyter-widgets/controls"
          }
        },
        "ab04353681d24477b0913a3fb4b5031a": {
          "model_module": "@jupyter-widgets/base",
          "model_name": "LayoutModel",
          "state": {
            "_view_name": "LayoutView",
            "grid_template_rows": null,
            "right": null,
            "justify_content": null,
            "_view_module": "@jupyter-widgets/base",
            "overflow": null,
            "_model_module_version": "1.2.0",
            "_view_count": null,
            "flex_flow": null,
            "width": null,
            "min_width": null,
            "border": null,
            "align_items": null,
            "bottom": null,
            "_model_module": "@jupyter-widgets/base",
            "top": null,
            "grid_column": null,
            "overflow_y": null,
            "overflow_x": null,
            "grid_auto_flow": null,
            "grid_area": null,
            "grid_template_columns": null,
            "flex": null,
            "_model_name": "LayoutModel",
            "justify_items": null,
            "grid_row": null,
            "max_height": null,
            "align_content": null,
            "visibility": null,
            "align_self": null,
            "height": null,
            "min_height": null,
            "padding": null,
            "grid_auto_rows": null,
            "grid_gap": null,
            "max_width": null,
            "order": null,
            "_view_module_version": "1.2.0",
            "grid_template_areas": null,
            "object_position": null,
            "object_fit": null,
            "grid_auto_columns": null,
            "margin": null,
            "display": null,
            "left": null
          }
        },
        "38a13ae0d08f48e79d59ac3d5a88d54d": {
          "model_module": "@jupyter-widgets/base",
          "model_name": "LayoutModel",
          "state": {
            "_view_name": "LayoutView",
            "grid_template_rows": null,
            "right": null,
            "justify_content": null,
            "_view_module": "@jupyter-widgets/base",
            "overflow": null,
            "_model_module_version": "1.2.0",
            "_view_count": null,
            "flex_flow": null,
            "width": null,
            "min_width": null,
            "border": null,
            "align_items": null,
            "bottom": null,
            "_model_module": "@jupyter-widgets/base",
            "top": null,
            "grid_column": null,
            "overflow_y": null,
            "overflow_x": null,
            "grid_auto_flow": null,
            "grid_area": null,
            "grid_template_columns": null,
            "flex": null,
            "_model_name": "LayoutModel",
            "justify_items": null,
            "grid_row": null,
            "max_height": null,
            "align_content": null,
            "visibility": null,
            "align_self": null,
            "height": null,
            "min_height": null,
            "padding": null,
            "grid_auto_rows": null,
            "grid_gap": null,
            "max_width": null,
            "order": null,
            "_view_module_version": "1.2.0",
            "grid_template_areas": null,
            "object_position": null,
            "object_fit": null,
            "grid_auto_columns": null,
            "margin": null,
            "display": null,
            "left": null
          }
        }
      }
    }
  },
  "cells": [
    {
      "cell_type": "markdown",
      "metadata": {
        "id": "view-in-github",
        "colab_type": "text"
      },
      "source": [
        "<a href=\"https://colab.research.google.com/github/shaonannan/2PopJagger/blob/master/EI_recurrent.ipynb\" target=\"_parent\"><img src=\"https://colab.research.google.com/assets/colab-badge.svg\" alt=\"Open In Colab\"/></a>"
      ]
    },
    {
      "cell_type": "code",
      "metadata": {
        "id": "m_C13yJnanq0",
        "colab_type": "code",
        "colab": {}
      },
      "source": [
        "from __future__ import print_function\n",
        "from ipywidgets import interact, interactive, fixed, interact_manual\n",
        "import ipywidgets as widgets\n",
        "import numpy as np\n",
        "import matplotlib.pylab as plt\n",
        "from numpy import linalg as la\n",
        "from scipy.optimize import fsolve"
      ],
      "execution_count": 2,
      "outputs": []
    },
    {
      "cell_type": "code",
      "metadata": {
        "id": "xe2OtU_Ba1-C",
        "colab_type": "code",
        "colab": {
          "base_uri": "https://localhost:8080/",
          "height": 396,
          "referenced_widgets": [
            "1fd7315dfc13461fa090f3e3bbe840a1",
            "cdb7740ddb3541a38258211e51e6a467",
            "66814474944d4aaaa95cb7584e234d1b",
            "072a7b2d254c4c33bfb15782bcaacac1",
            "e973d2aad7dd49e8a56d0bb961149782",
            "8b6b510ebf3143519a1fda774c112869",
            "b65ee15c6934402da2c9e7d1d2282615",
            "dacebcaf7742414188fa63224c293ea7",
            "419e799693fc439ca636a55314f7911e",
            "789018fe5331445ab620a51bcd3a03b0",
            "cfaf88ca85354c60a9c31dd441e8a3e4",
            "5124bf46185f4a2585bf976589822ca8",
            "95ca5e1a970949b0aec8ef0b086e0894",
            "d8b3d9234e5644628896df1efde90621",
            "ab04353681d24477b0913a3fb4b5031a",
            "38a13ae0d08f48e79d59ac3d5a88d54d"
          ]
        },
        "outputId": "80450b1b-061e-4ccf-98ac-4605387ef45c"
      },
      "source": [
        "# theoretical solution for kappa\n",
        "kappa = np.arange(-5.0,5.0,0.1)\n",
        "\n",
        "def F_kappa(JE=5.0,JI=1.0,I1=2.0,I2=1.0):\n",
        "  # calculate stm's projection to m\n",
        "  amp_m = 1.0/np.sqrt(2)\n",
        "  m = np.ones((2,1))\n",
        "  innermul = I1*m[0,0] +I2*m[1,0]\n",
        "  I_org = np.ones((2,1))\n",
        "  I_org[0,0],I_org[1,0] = I1,I2\n",
        "  amp_I2m = innermul/np.sqrt(np.sum(m**2))\n",
        "  I_overlap=amp_I2m*amp_m\n",
        "  I_proj = amp_I2m*amp_m*m\n",
        "  I_perpen = I_org-I_proj\n",
        "\n",
        "  eterm=JE*(1+np.tanh(kappa+I_perpen[0,0]))/2.0\n",
        "  iterm=JI*(1+np.tanh(kappa+I_perpen[1,0]))/2.0\n",
        "  g_x  =eterm-iterm+I_overlap\n",
        "  plt.figure(1)\n",
        "  plt.plot(kappa,kappa,'--')\n",
        "  plt.plot(kappa,g_x,'r')\n",
        "_ = widgets.interact(F_kappa,JE=(0.0,6.0,.1),\n",
        "                     JI=(0.0,6.0,.1),I1=(-6.0,6.0,.1),I2=(-6.0,6.0,.1))"
      ],
      "execution_count": 3,
      "outputs": [
        {
          "output_type": "display_data",
          "data": {
            "application/vnd.jupyter.widget-view+json": {
              "model_id": "1fd7315dfc13461fa090f3e3bbe840a1",
              "version_minor": 0,
              "version_major": 2
            },
            "text/plain": [
              "interactive(children=(FloatSlider(value=5.0, description='JE', max=6.0), FloatSlider(value=1.0, description='J…"
            ]
          },
          "metadata": {
            "tags": []
          }
        }
      ]
    },
    {
      "cell_type": "markdown",
      "metadata": {
        "id": "Yccgr-5SYOSF",
        "colab_type": "text"
      },
      "source": [
        "Variables and Parameters\n",
        "* To find the Fixed Points is like figure out the intersections of two curves\n",
        "  $f\\kappa)=\\kappa$ and $g(\\kappa)=J_E(1+\\mathrm{tanh}(\\kappa+I_{\\perp}^E))/2-J_I(1+\\mathrm{tanh}(\\kappa+I_{\\perp}^I))/2+\\mathcal{O}_{mI}$\n",
        "\n",
        "Basic Functions\n",
        "* nonlinear transfer Functions\n",
        "* iterative loops\n",
        "* finding roots\n",
        "* etc."
      ]
    },
    {
      "cell_type": "code",
      "metadata": {
        "id": "Br2OMr08Yfz2",
        "colab_type": "code",
        "colab": {
          "base_uri": "https://localhost:8080/",
          "height": 50
        },
        "outputId": "f399e7c7-cff8-446f-c809-d541d60a0ece"
      },
      "source": [
        "# nonlinear transfer function -- we use tanh\n",
        "def nonlineartransfer(x,params,type='tanh'):\n",
        "    if type=='relu':\n",
        "        a,theta = params[0],params[1]\n",
        "        if x-theta>0:\n",
        "            return a*(x-theta)\n",
        "        else:\n",
        "            return 0\n",
        "    elif type=='tanh':\n",
        "        return (1.0+np.tanh(x))/2.0\n",
        "\n",
        "# run iterative loops, each one has a set of parameters\n",
        "def run_dynamics(x0, stm, Net_settings,Conn_mat):\n",
        "    tf_type = Net_settings['transfer_func']\n",
        "    JE,JI   = Conn_mat['JE'],Conn_mat['JI']\n",
        "    tfinal  = Net_settings['final_time']\n",
        "    dt      = Net_settings['time_step']\n",
        "    taxis = np.arange(0,tfinal,dt)\n",
        "    nnum,nt = len(x0),len(taxis)\n",
        "    x_seq = np.zeros((nnum,nt))\n",
        "    x_dot_seq = np.zeros_like(x_seq)\n",
        "    x_seq[:,0] = x0[:,0]\n",
        "    for idxt in range(1,nt):\n",
        "        for idx in range(nnum):\n",
        "            x_dot = -x_seq[idx,idxt-1]+JE*nonlineartransfer(x_seq[0,idxt-1],0,)-JI*nonlineartransfer(x_seq[1,idxt-1],0,)+stm[idx]\n",
        "            x_seq[idx,idxt]=x_dot*dt+x_seq[idx,idxt-1]\n",
        "            x_dot_seq[idx,idxt-1] = x_dot\n",
        "\n",
        "    return taxis,x_seq,x_dot_seq\n",
        "\n",
        "# theoretical solution, finding roots \n",
        "def func_kappa(x,params):\n",
        "    JE,JI,I1,I2,I_overlap,m=params[0],params[1],params[2],params[3],params[4],params[5]  \n",
        "    return -x+(JE-JI)/2.0+(JE*np.tanh(x+I1)-JI*np.tanh(x+I2))/2.0+I_overlap\n",
        "\n",
        "# r.h.s. function g(\\kappa)\n",
        "def rhsg_kappa(x,params):\n",
        "    JE,JI,I1,I2,I_overlap,m = params[0],params[1],params[2],params[3],params[4],params[5]\n",
        "    return JE*(1+np.tanh(x+I1))/2.0-JI*(1+np.tanh(x+I2))/2.0+I_overlap\n",
        "# decompose the input signal I_{ext} -- component parallel to m and perpendicular to m\n",
        "def decompinput(Iorg,m,):\n",
        "  I1,I2=Iorg[0,0],Iorg[1,0]\n",
        "  # overlapping\n",
        "  innermul = I1*m[0,0]+I2*m[1,0]\n",
        "  amp_m = 1.0/np.sqrt(np.sum(m**2))\n",
        "  amp_I2m = innermul/np.sqrt(np.sum(m**2))\n",
        "  I_overlap=amp_I2M*amp_m\n",
        "  I_proj = amp_I2m*amp_m*m\n",
        "  I_perpen = Iorg-I_proj\n",
        "  \n",
        "  return I_overlap,I_proj,I_perpen\n",
        "\n",
        "# figure out the critical points, which meet the requirement -- f(x) is tangent to g(x)\n",
        "def solvetangent(x,params):\n",
        "    x0,x1=x.tolist()\n",
        "    JE,JI,I1,I2=params[0],params[1],params[2],params[3]\n",
        "    C=(JE-JI)/2.0\n",
        "    return [-x0+JE*(1+np.tanh(x0+I1))/2.0-JI*(1+np.tanh(x0+I2))/2.0+x1,-1+JE*(1-(np.tanh(x0+I1))**2)/2.0-JI*(1-(np.tanh(x0+I2))**2)/2.0]\n"
      ],
      "execution_count": 8,
      "outputs": [
        {
          "output_type": "stream",
          "text": [
            "the low one: 0.8813735870194974 -2.53283997535363\n",
            "the top one: -0.8813735870285958 -1.4671600246617105\n"
          ],
          "name": "stdout"
        }
      ]
    },
    {
      "cell_type": "markdown",
      "metadata": {
        "id": "fCLPZMK-YiFb",
        "colab_type": "text"
      },
      "source": [
        "Initiating the Network, giving parameters and hyper-parameters\n",
        "* Network settings: dt, tfinal, type of transfer function\n",
        "* connectivity matrix \n",
        "* etc"
      ]
    },
    {
      "cell_type": "code",
      "metadata": {
        "id": "80DPgzSxYjr5",
        "colab_type": "code",
        "colab": {}
      },
      "source": [
        "# Network settings\n",
        "Net_settings ={'transfer_func': 'tanh',\n",
        "                'time_step': 0.1,\n",
        "                'final_time':150,\n",
        "}\n",
        "# connectivity matrix\n",
        "Conn_mat ={'JE': 5.0,\n",
        "            'JI':1.0,\n",
        "}\n",
        "m = np.ones((2,1))\n",
        "ntt = int(Net_settings['final_time']/Net_settings['time_step'])"
      ],
      "execution_count": 10,
      "outputs": []
    },
    {
      "cell_type": "markdown",
      "metadata": {
        "id": "iGkRUWK2YnTD",
        "colab_type": "text"
      },
      "source": [
        "**Simple case**   \n",
        "Here we further simplify our network model, define a new parameter $C=\\frac{J_E-J_I}{2}$, and let $I=I_E=I_I$. In this simple case, the network dynamics is controlled by parameter $C$ and amplitude of external input $I\\left(I_{amp}\\right)$.  \n",
        "* First, we ***fix $C$*** and continuously ***change $I_{amp}$***, numerically figure out the dynamics of $x$. "
      ]
    },
    {
      "cell_type": "code",
      "metadata": {
        "id": "Jg4MYrrIYo82",
        "colab_type": "code",
        "colab": {}
      },
      "source": [
        "JE,JI = Conn_mat['JE'],Conn_mat['JI']\n",
        "tf, dt = Net_settings['final_time'],Net_settings['time_step']\n",
        "tt = np.arange(0.0,Net_settings['final_time'],Net_settings['time_step'])\n",
        "\n",
        "# choose 3 typical points to do numerical simulation\n",
        "Iamp_typical = np.array([-3.0,-2.530,-2.0,-1.467,-1.0])\n",
        "nparam_Iamp = len(Iamp_typical)\n",
        "kappa_num_series_up,kappa_num_series_bot = np.zeros((nparam_Iamp,ntt)),np.zeros((nparam_Iamp,ntt))\n",
        "x_dot_series_up,x_dot_series_bot = np.zeros((nparam_Iamp,2,ntt)),np.zeros((nparam_Iamp,2,ntt))\n",
        "x_series_up,x_series_bot = np.zeros((nparam_Iamp,2,ntt)),np.zeros((nparam_Iamp,2,ntt))\n",
        "eps = 0.1\n",
        "for idxi in np.arange(nparam_Iamp):\n",
        "    C= (JE-JI)/2.0\n",
        "    stm = Iamp_typical[idxi]*np.ones((2,1))\n",
        "    # upper approximate\n",
        "    x0 = 2*C*np.ones((2,1))\n",
        "    taxis, x_seq,x_dot_seq = run_dynamics(x0, stm, Net_settings,Conn_mat)\n",
        "    x_series_up[idxi,:,:], x_dot_series_up[idxi,:,:] = x_seq, x_dot_seq\n",
        "    kappa_num_series_up[idxi,:] = x_series_up[idxi,0,:]#-stm[0,0]\n",
        "    # bottom approximate\n",
        "    x0 = -2*C*np.ones((2,1))\n",
        "    taxis, x_seq,x_dot_seq = run_dynamics(x0, stm, Net_settings,Conn_mat)\n",
        "    x_series_bot[idxi,:,:], x_dot_series_bot[idxi,:,:] = x_seq, x_dot_seq\n",
        "    kappa_num_series_bot[idxi,:] = x_series_bot[idxi,0,:]#-stm[0,0]"
      ],
      "execution_count": 13,
      "outputs": []
    },
    {
      "cell_type": "markdown",
      "metadata": {
        "id": "cctL6tXJYsSw",
        "colab_type": "text"
      },
      "source": [
        "Visualize the temporal responses of $x$ under different $I_{amp}$\n",
        "\n"
      ]
    },
    {
      "cell_type": "code",
      "metadata": {
        "id": "5IncOZCEYt42",
        "colab_type": "code",
        "colab": {
          "base_uri": "https://localhost:8080/",
          "height": 297
        },
        "outputId": "17b2dd1a-8e9e-4cb2-dd10-4ec475f99197"
      },
      "source": [
        "# # temporal dynamics of X and also \\kappa\n",
        "# plt.figure()\n",
        "# plt.plot(tt,x_series_up[0,0,:],'r',label=r\"$J_E=0.5$ upper\")\n",
        "# plt.plot(tt,x_series_up[1,0,:],'k',label=r\"$J_E=3.0$ upper\")\n",
        "# plt.plot(tt,x_series_up[2,0,:],'b',label=r\"$J_E=5.0$ upper\")\n",
        "# plt.plot(tt,x_series_bot[0,0,:],'--r',label=r\"$J_E=0.5$ bottom\")\n",
        "# plt.plot(tt,x_series_bot[1,0,:],'--k',label=r\"$J_E=3.0$ bottom\")\n",
        "# plt.plot(tt,x_series_bot[2,0,:],'--b',label=r\"$J_E=5.0$ bottom\")\n",
        "# plt.xlabel(r\"time\")\n",
        "# plt.ylabel(r\"$x(t)$\")\n",
        "# plt.legend()\n",
        "# plt.grid()\n",
        "# temporal dynamics of X and also \\kappa\n",
        "plt.figure()\n",
        "plt.plot(tt,kappa_num_series_up[0,:],'r',label=r\"$I_{amp}=-3.0$ upper\")\n",
        "plt.plot(tt,kappa_num_series_up[1,:],'g',label=r\"$I_{amp}=-2.5$ upper\")\n",
        "plt.plot(tt,kappa_num_series_up[2,:],'b',label=r\"$I_{amp}=-2.0$ upper\")\n",
        "plt.plot(tt,kappa_num_series_up[3,:],'m',label=r\"$I_{amp}=-1.4$ upper\")\n",
        "plt.plot(tt,kappa_num_series_up[4,:],'c',label=r\"$I_{amp}=-1.0$ upper\")\n",
        "\n",
        "plt.plot(tt,kappa_num_series_bot[0,:],'--r',label=r\"$I_{amp}=-3.0$ bottom\")\n",
        "plt.plot(tt,kappa_num_series_bot[1,:],'--g',label=r\"$I_{amp}=-2.5$ bottom\")\n",
        "plt.plot(tt,kappa_num_series_bot[2,:],'--b',label=r\"$I_{amp}=-2.0$ bottom\")\n",
        "plt.plot(tt,kappa_num_series_bot[3,:],'--m',label=r\"$I_{amp}=-1.4$ bottom\")\n",
        "plt.plot(tt,kappa_num_series_bot[4,:],'--c',label=r\"$I_{amp}=-1.0$ bottom\")\n",
        "plt.xlabel(r\"time\")\n",
        "plt.ylabel(r\"$\\kappa(t)$\")\n",
        "plt.title(r\"temporal dynamics of $\\kappa$\")\n",
        "# plt.legend()\n",
        "plt.grid()"
      ],
      "execution_count": 14,
      "outputs": [
        {
          "output_type": "display_data",
          "data": {
            "image/png": "[encoded data removed]",
            "text/plain": [
              "<Figure size 432x288 with 1 Axes>"
            ]
          },
          "metadata": {
            "tags": [],
            "needs_background": "light"
          }
        }
      ]
    },
    {
      "cell_type": "markdown",
      "metadata": {
        "id": "8-Lk1my9YxsN",
        "colab_type": "text"
      },
      "source": [
        "find the intersections of two curve $f(\\kappa)=\\kappa$ and $g(\\kappa)=\\frac{J_E-J_I}{2}(1+\\mathrm{tanh}(\\kappa))+\\mathcal{O}_{mI}$, $x$-axis of the points are the 1D FP"
      ]
    },
    {
      "cell_type": "code",
      "metadata": {
        "id": "NBHHXVUaYzHI",
        "colab_type": "code",
        "colab": {
          "base_uri": "https://localhost:8080/",
          "height": 401
        },
        "outputId": "f5625f04-4631-4b5c-882f-fbde9d3128b9"
      },
      "source": [
        "# parameters\n",
        "JE,JI = 5.0,1.0\n",
        "Iamp_series = np.arange(-3.0,0.0,0.1)\n",
        "nparam_theoi = len(Iamp_series)\n",
        "kappa_nsolve=np.zeros((nparam_theoi,3))\n",
        "tolv = 1e-3\n",
        "for idxi in np.arange(nparam_theoi):\n",
        "    C=(JE-JI)/2.0\n",
        "    # calculate stm's projection to m\n",
        "    amp_m = 1.0/np.sqrt(2)   \n",
        "    innermul = Iamp_series[idxi]*m[0,0] +Iamp_series[idxi]*m[1,0]\n",
        "    I_org = Iamp_series[idxi]*np.ones((2,1))\n",
        "    # I_org[0,0],I_org[1,0] = I1,I2\n",
        "    amp_I2m = innermul/np.sqrt(np.sum(m**2))\n",
        "    I_overlap=amp_I2m*amp_m\n",
        "    I_proj = amp_I2m*amp_m*m\n",
        "    I_perpen = I_org-I_proj\n",
        "    kappaini=np.array([-2*C, -0.0, 2*C])\n",
        "    for idxkappa in range(3):\n",
        "        kappa_ = fsolve(func_kappa,[kappaini[idxkappa]],args=[JE,JI,I_perpen[0,0],I_perpen[1,0],I_overlap,m])\n",
        "        # check the FP\n",
        "        errv=func_kappa(kappa_,[JE,JI,I_perpen[0,0],I_perpen[1,0],I_overlap,m])\n",
        "        if np.fabs(errv)<tolv:\n",
        "          kappa_nsolve[idxi,idxkappa] = kappa_\n",
        "        else:\n",
        "          kappa_nsolve[idxi,idxkappa] = None\n",
        "\n",
        "plt.figure(3)\n",
        "plt.plot(Iamp_series,kappa_nsolve[:nparam_theoi,0],'r',label='small FP')\n",
        "plt.plot(Iamp_series,kappa_nsolve[:nparam_theoi,1],'--k',label='middle FP')\n",
        "plt.plot(Iamp_series,kappa_nsolve[:nparam_theoi,2],'b',label='large FP')\n",
        "plt.xlabel(r\"$I_{amp}$\")\n",
        "plt.xlim(-3.0,-1.0)\n",
        "plt.ylabel(r\"$\\kappa^*$\")\n",
        "plt.title('bifurcation anlysis')\n",
        "plt.legend()\n",
        "plt.axis('equal')\n",
        "plt.grid()\n"
      ],
      "execution_count": 15,
      "outputs": [
        {
          "output_type": "stream",
          "text": [
            "/usr/local/lib/python3.6/dist-packages/scipy/optimize/minpack.py:162: RuntimeWarning: The iteration is not making good progress, as measured by the \n",
            "  improvement from the last ten iterations.\n",
            "  warnings.warn(msg, RuntimeWarning)\n",
            "/usr/local/lib/python3.6/dist-packages/scipy/optimize/minpack.py:162: RuntimeWarning: The iteration is not making good progress, as measured by the \n",
            "  improvement from the last five Jacobian evaluations.\n",
            "  warnings.warn(msg, RuntimeWarning)\n"
          ],
          "name": "stderr"
        },
        {
          "output_type": "display_data",
          "data": {
            "image/png": "[encoded data removed]",
            "text/plain": [
              "<Figure size 432x288 with 1 Axes>"
            ]
          },
          "metadata": {
            "tags": [],
            "needs_background": "light"
          }
        }
      ]
    },
    {
      "cell_type": "code",
      "metadata": {
        "id": "SZwyff54mAzN",
        "colab_type": "code",
        "colab": {
          "base_uri": "https://localhost:8080/",
          "height": 34
        },
        "outputId": "a5d61d58-7823-4bc6-9d50-116740679466"
      },
      "source": [
        "print(np.tanh(-1.5**2))"
      ],
      "execution_count": null,
      "outputs": [
        {
          "output_type": "stream",
          "text": [
            "-0.9780261147388136\n"
          ],
          "name": "stdout"
        }
      ]
    },
    {
      "cell_type": "markdown",
      "metadata": {
        "id": "5VD1BS9KY4kU",
        "colab_type": "text"
      },
      "source": [
        "We can also visualize the shape of function $g(\\kappa)$ under different $I_{amp}$ "
      ]
    },
    {
      "cell_type": "code",
      "metadata": {
        "id": "Z4Mqz_bJY6Cr",
        "colab_type": "code",
        "colab": {
          "base_uri": "https://localhost:8080/",
          "height": 362
        },
        "outputId": "beaa5950-aa8b-4b90-fb95-c71abec1b029"
      },
      "source": [
        "# Iamp_typical\n",
        "kappa_set = np.arange(-3.0,3.0,0.1)\n",
        "g_kappa_series = np.zeros((len(Iamp_typical),len(kappa_set)))\n",
        "JE,JI=5.0,1.0\n",
        "for idxi in range(len(Iamp_typical)):\n",
        "    C = (JE-JI)/2.0\n",
        "    # calculate stm's projection to m\n",
        "    amp_m = 1.0/np.sqrt(2)   \n",
        "    innermul = Iamp_typical[idxi]*m[0,0] +Iamp_typical[idxi]*m[1,0]\n",
        "    I_org = Iamp_typical[idxi]*np.ones((2,1))\n",
        "    # I_org[0,0],I_org[1,0] = I1,I2\n",
        "    amp_I2m = innermul/np.sqrt(np.sum(m**2))\n",
        "    I_overlap=amp_I2m*amp_m\n",
        "    I_proj = amp_I2m*amp_m*m\n",
        "    I_perpen = I_org-I_proj\n",
        "\n",
        "    eterm = JE*(1+np.tanh(kappa_set+I_perpen[0,0]))/2.0\n",
        "    iterm = JI*(1+np.tanh(kappa_set+I_perpen[1,0]))/2.0\n",
        "    g_kappa_series[idxi,:] = eterm-iterm+I_overlap\n",
        "\n",
        "# visualize the results\n",
        "plt.figure()\n",
        "plt.plot(kappa_set,kappa_set,'--k',label=r\"$f(x)$\")\n",
        "plt.plot(kappa_set,g_kappa_series[0,:],'r',label=r\"$g(x)$, $I_{amp}=-3.0$\")\n",
        "plt.plot(kappa_set,g_kappa_series[1,:],'g',label=r\"$g(x)$, $I_{amp}=-2.5$\")\n",
        "plt.plot(kappa_set,g_kappa_series[2,:],'b',label=r\"$g(x)$, $I_{amp}=-2.0$\")\n",
        "plt.plot(kappa_set,g_kappa_series[3,:],'m',label=r\"$g(x)$, $I_{amp}=-1.4$\")\n",
        "plt.plot(kappa_set,g_kappa_series[4,:],'c',label=r\"$g(x)$, $I_{amp}=-1.0$\")\n",
        "plt.xlabel(r\"$\\kappa$\")\n",
        "plt.ylabel(r\"$f(x),\\ g(x)$\")\n",
        "plt.title(r\"FP visualized through intersection\")\n",
        "plt.legend()\n",
        "plt.grid()\n",
        "plt.axis('equal')\n",
        "    "
      ],
      "execution_count": 18,
      "outputs": [
        {
          "output_type": "execute_result",
          "data": {
            "text/plain": [
              "(-3.2950000000000004,\n",
              " 3.195000000000006,\n",
              " -3.2993963167350584,\n",
              " 3.2873226514362246)"
            ]
          },
          "metadata": {
            "tags": []
          },
          "execution_count": 18
        },
        {
          "output_type": "display_data",
          "data": {
            "image/png": "[encoded data removed]",
            "text/plain": [
              "<Figure size 432x288 with 1 Axes>"
            ]
          },
          "metadata": {
            "tags": [],
            "needs_background": "light"
          }
        }
      ]
    },
    {
      "cell_type": "markdown",
      "metadata": {
        "id": "n-RaXSWXY9-f",
        "colab_type": "text"
      },
      "source": [
        "In conclusion, in this simplest case, there are two **Saddle-Node Bifurcation**s. We can figure out the Saddle-Node bifurcation by solving a set of (two) equations,\n",
        "$$f(\\kappa)=g(\\kappa)$$\n",
        "$$f'(\\kappa)=g'(\\kappa)$$\n",
        "\n",
        "\n"
      ]
    },
    {
      "cell_type": "code",
      "metadata": {
        "id": "3Tf4XfmgeGrm",
        "colab_type": "code",
        "colab": {
          "base_uri": "https://localhost:8080/",
          "height": 50
        },
        "outputId": "7f482003-262a-41b1-8d01-0d668a514f55"
      },
      "source": [
        "# find the saddle-node bifurcation points\n",
        "tangp = np.zeros((2,2))\n",
        "JE,JI=5,1\n",
        "kappa0,i0=1.0,-3.0\n",
        "x0,x1 = fsolve(solvetangent,[kappa0,i0],args=[JE,JI,0,0])\n",
        "tangp[0,0],tangp[0,1]=x0,x1\n",
        "print('the lower one: kappa --',x0,', Iamp --',x1)\n",
        "kappa0,i0=-1.0,-1.6\n",
        "x0_,x1_ = fsolve(solvetangent,[kappa0,i0],args=[JE,JI,0,0])\n",
        "tangp[1,0],tangp[1,1]=x0_,x1_\n",
        "print('the top one: kappa --',x0_,', Iamp --',x1_)"
      ],
      "execution_count": 22,
      "outputs": [
        {
          "output_type": "stream",
          "text": [
            "the lower one: kappa -- 0.8813735870194974 , Iamp -- -2.53283997535363\n",
            "the top one: kappa -- -0.8813735870285958 , Iamp -- -1.4671600246617105\n"
          ],
          "name": "stdout"
        }
      ]
    },
    {
      "cell_type": "markdown",
      "metadata": {
        "id": "M08qtxa3RELb",
        "colab_type": "text"
      },
      "source": [
        "* Then, another way to view this question, we ***fix $I_{amp}$*** and continuously ***change $C$*** instead, numerically figure out the dynamics of $x$. "
      ]
    },
    {
      "cell_type": "markdown",
      "metadata": {
        "id": "shjz5jxBRx0f",
        "colab_type": "text"
      },
      "source": [
        "Note that in the simple case with $I_{amp}=I_{\\perp}^E=I_{\\perp}^I$, the r.h.s. Eq is $g(\\kappa)=C(1+\\mathrm{tanh}(\\kappa))+I_{amp}$, the first term always goes through the point $(0,C)$ and $I_{amp}=-C$ moves the curve to the center $(0,0)$. We analyze this special case.  \n",
        "We set $I_{amp}=-C$, because $f'(\\kappa)=1$ and $g'(0)=C$, $C=1$ is a special point where $f(\\kappa)$ is tangent to $g(\\kappa)$. So we change $C$ from 0 to 2."
      ]
    },
    {
      "cell_type": "code",
      "metadata": {
        "id": "VysXRBbLg5RC",
        "colab_type": "code",
        "colab": {
          "base_uri": "https://localhost:8080/",
          "height": 362
        },
        "outputId": "18fcf4a3-cb51-4559-9279-f1832a613e26"
      },
      "source": [
        "# C_typical\n",
        "# fix JI and change JE--calculate C--configurate I_{amp}\n",
        "je_typical = np.array([0.8,3.0,5.2])\n",
        "kappa_set = np.arange(-3.0,3.0,0.1)\n",
        "g_kappa_series = np.zeros((len(Iamp_typical),len(kappa_set)))\n",
        "JI=1.0\n",
        "for idxje in range(len(je_typical)):\n",
        "    JE = je_typical[idxje]\n",
        "    C = (JE-JI)/2.0\n",
        "    Iamp=-C\n",
        "    # calculate stm's projection to m\n",
        "    amp_m = 1.0/np.sqrt(np.sum(m**2))   \n",
        "    innermul = Iamp*m[0,0] +Iamp*m[1,0]\n",
        "    I_org = Iamp*np.ones((2,1))\n",
        "    # I_org[0,0],I_org[1,0] = I1,I2\n",
        "    amp_I2m = innermul/np.sqrt(np.sum(m**2))\n",
        "    I_overlap=amp_I2m*amp_m\n",
        "    I_proj = amp_I2m*amp_m*m\n",
        "    I_perpen = I_org-I_proj\n",
        "\n",
        "    eterm = JE*(1+np.tanh(kappa_set+I_perpen[0,0]))/2.0\n",
        "    iterm = JI*(1+np.tanh(kappa_set+I_perpen[1,0]))/2.0\n",
        "    g_kappa_series[idxje,:] = eterm-iterm+I_overlap\n",
        "\n",
        "# visualize the results\n",
        "plt.figure()\n",
        "plt.plot(kappa_set,kappa_set,'--k',label=r\"$f(x)$\")\n",
        "plt.plot(kappa_set,g_kappa_series[0,:],'r',label=r\"$g(x)$, $C=-0.1$\")\n",
        "plt.plot(kappa_set,g_kappa_series[1,:],'g',label=r\"$g(x)$, $C=1.0$\")\n",
        "plt.plot(kappa_set,g_kappa_series[2,:],'b',label=r\"$g(x)$, $C=2.1$\")\n",
        "\n",
        "plt.xlabel(r\"$\\kappa$\")\n",
        "plt.ylabel(r\"$f(x),\\ g(x)$\")\n",
        "plt.title(r\"FP visualized through intersection\")\n",
        "plt.legend()\n",
        "plt.grid()\n",
        "plt.axis('equal')"
      ],
      "execution_count": 26,
      "outputs": [
        {
          "output_type": "execute_result",
          "data": {
            "text/plain": [
              "(-3.2950000000000004,\n",
              " 3.195000000000006,\n",
              " -3.2950000000000004,\n",
              " 3.195000000000006)"
            ]
          },
          "metadata": {
            "tags": []
          },
          "execution_count": 26
        },
        {
          "output_type": "display_data",
          "data": {
            "image/png": "[encoded data removed]",
            "text/plain": [
              "<Figure size 432x288 with 1 Axes>"
            ]
          },
          "metadata": {
            "tags": [],
            "needs_background": "light"
          }
        }
      ]
    },
    {
      "cell_type": "markdown",
      "metadata": {
        "id": "C9FJc6vvlRu0",
        "colab_type": "text"
      },
      "source": [
        "There is a bifurcation at $C=1$, when $C$ increases from value less than 1 to greater than 1, $(0,0)$ changes from being the only one stable FP to one of the three FPs, but the unstable one. We can plot the bifurcation graph 'FPs v.s. C'"
      ]
    },
    {
      "cell_type": "code",
      "metadata": {
        "id": "v4VRJUllnJl3",
        "colab_type": "code",
        "colab": {
          "base_uri": "https://localhost:8080/",
          "height": 350
        },
        "outputId": "4fc55c45-b105-4439-a7f1-b0766e00a5c2"
      },
      "source": [
        "# parameters\n",
        "JI = 1.0\n",
        "je_series = np.arange(0.0,5.0,0.1)\n",
        "nparam_theoje = len(je_series)\n",
        "kappa_nsolve=np.zeros((nparam_theoje,3))\n",
        "tolv = 1e-3\n",
        "for idxje in np.arange(nparam_theoje):\n",
        "    JE=je_series[idxje]\n",
        "    C=(JE-JI)/2.0\n",
        "    # calculate stm's projection to m\n",
        "    amp_m = 1.0/np.sqrt(np.sum(m**2)) \n",
        "    Iamp = -C  \n",
        "    innermul = Iamp*m[0,0] +Iamp*m[1,0]\n",
        "    I_org = Iamp*np.ones((2,1))\n",
        "    # I_org[0,0],I_org[1,0] = I1,I2\n",
        "    amp_I2m = innermul/np.sqrt(np.sum(m**2))\n",
        "    I_overlap=amp_I2m*amp_m\n",
        "    I_proj = amp_I2m*amp_m*m\n",
        "    I_perpen = I_org-I_proj\n",
        "    kappaini=np.array([-C, 0.05, C])\n",
        "    for idxkappa in range(3):\n",
        "        kappa_ = fsolve(func_kappa,[kappaini[idxkappa]],args=[JE,JI,I_perpen[0,0],I_perpen[1,0],I_overlap,m])\n",
        "        # check the FP\n",
        "        errv=func_kappa(kappa_,[JE,JI,I_perpen[0,0],I_perpen[1,0],I_overlap,m])\n",
        "        if np.fabs(errv)<tolv:\n",
        "          kappa_nsolve[idxje,idxkappa] = kappa_\n",
        "        else:\n",
        "          kappa_nsolve[idxje,idxkappa] = None\n",
        "\n",
        "plt.figure(3)\n",
        "plt.plot(je_series,kappa_nsolve[:nparam_theoje,0],'r',label='small FP')\n",
        "plt.plot(je_series,kappa_nsolve[:nparam_theoje,1],'--k',label='middle FP')\n",
        "plt.plot(je_series,kappa_nsolve[:nparam_theoje,2],'b',label='large FP')\n",
        "plt.xlabel(r\"$J_E$\")\n",
        "plt.ylabel(r\"$\\kappa^*$\")\n",
        "plt.title('bifurcation anlysis')\n",
        "plt.legend()\n",
        "plt.axis('equal')\n",
        "plt.grid()"
      ],
      "execution_count": 31,
      "outputs": [
        {
          "output_type": "stream",
          "text": [
            "/usr/local/lib/python3.6/dist-packages/scipy/optimize/minpack.py:162: RuntimeWarning: The iteration is not making good progress, as measured by the \n",
            "  improvement from the last ten iterations.\n",
            "  warnings.warn(msg, RuntimeWarning)\n"
          ],
          "name": "stderr"
        },
        {
          "output_type": "display_data",
          "data": {
            "image/png": "[encoded data removed]",
            "text/plain": [
              "<Figure size 432x288 with 1 Axes>"
            ]
          },
          "metadata": {
            "tags": [],
            "needs_background": "light"
          }
        }
      ]
    },
    {
      "cell_type": "markdown",
      "metadata": {
        "id": "Ej_JMofdp7Bl",
        "colab_type": "text"
      },
      "source": [
        "A supercritical **Pitchfork Bifurcation** occurs when $J_E=3.0$ ($C=\\frac{J_E-J_I}{2}=1$). Numerical simulation of variable $x(t)$ gives identical result "
      ]
    },
    {
      "cell_type": "code",
      "metadata": {
        "id": "kusFlKcXp5YC",
        "colab_type": "code",
        "colab": {
          "base_uri": "https://localhost:8080/",
          "height": 297
        },
        "outputId": "b843c7ff-358f-4c7b-fd84-c6432bfad768"
      },
      "source": [
        "JE,JI = Conn_mat['JE'],Conn_mat['JI']\n",
        "tf, dt = Net_settings['final_time'],Net_settings['time_step']\n",
        "tt = np.arange(0.0,Net_settings['final_time'],Net_settings['time_step'])\n",
        "\n",
        "# choose 3 typical points to do numerical simulation\n",
        "kappa_num_series_up,kappa_num_series_bot = np.zeros((nparam_theoje,ntt)),np.zeros((nparam_theoje,ntt))\n",
        "x_dot_series_up,x_dot_series_bot = np.zeros((nparam_theoje,2,ntt)),np.zeros((nparam_theoje,2,ntt))\n",
        "x_series_up,x_series_bot = np.zeros((nparam_theoje,2,ntt)),np.zeros((nparam_theoje,2,ntt))\n",
        "eps = 0.1\n",
        "for idxje in np.arange(nparam_theoje):\n",
        "    Conn_mat['JE']= je_series[idxje]\n",
        "    C= (JE-JI)/2.0\n",
        "    stm = -C*np.ones((2,1))\n",
        "    # upper approximate\n",
        "    x0 = 3*C*np.ones((2,1))\n",
        "    taxis, x_seq,x_dot_seq = run_dynamics(x0, stm, Net_settings,Conn_mat)\n",
        "    x_series_up[idxje,:,:], x_dot_series_up[idxje,:,:] = x_seq, x_dot_seq\n",
        "    kappa_num_series_up[idxje,:] = x_series_up[idxje,0,:]#-stm[0,0]\n",
        "    # bottom approximate\n",
        "    x0 = -3*C*np.ones((2,1))\n",
        "    taxis, x_seq,x_dot_seq = run_dynamics(x0, stm, Net_settings,Conn_mat)\n",
        "    x_series_bot[idxje,:,:], x_dot_series_bot[idxje,:,:] = x_seq, x_dot_seq\n",
        "    kappa_num_series_bot[idxje,:] = x_series_bot[idxje,0,:]#-stm[0,0]\n",
        "plt.figure()\n",
        "plt.plot(tt,kappa_num_series_up[20,:],'r',label=r\"$J_E=2.0$ upper\")\n",
        "plt.plot(tt,kappa_num_series_up[30,:],'g',label=r\"$J_E=3.0$ upper\")\n",
        "plt.plot(tt,kappa_num_series_up[49,:],'b',label=r\"$J_E=5.0$ upper\")\n",
        "\n",
        "plt.plot(tt,kappa_num_series_bot[20,:],'--r',label=r\"$J_E=2.0$ bottom\")\n",
        "plt.plot(tt,kappa_num_series_bot[30,:],'--g',label=r\"$J_E=3.0$ bottom\")\n",
        "plt.plot(tt,kappa_num_series_bot[49,:],'--b',label=r\"$J_E=5.0$ bottom\")\n",
        "plt.xlabel(r\"time\")\n",
        "plt.ylabel(r\"$\\kappa(t)$\")\n",
        "plt.title(r\"temporal dynamics of $\\kappa$\")\n",
        "plt.legend()\n",
        "plt.grid()"
      ],
      "execution_count": 42,
      "outputs": [
        {
          "output_type": "display_data",
          "data": {
            "image/png": "[encoded data removed]",
            "text/plain": [
              "<Figure size 432x288 with 1 Axes>"
            ]
          },
          "metadata": {
            "tags": [],
            "needs_background": "light"
          }
        }
      ]
    },
    {
      "cell_type": "markdown",
      "metadata": {
        "id": "oSZkeqm70oX8",
        "colab_type": "text"
      },
      "source": [
        "In conclusion, there are one supercritical **Pitchfork Bifurcation** in this network"
      ]
    },
    {
      "cell_type": "markdown",
      "metadata": {
        "id": "pf-A16tOZBAL",
        "colab_type": "text"
      },
      "source": [
        "**Different external inputs $I_{ext}$ for $\\mathrm{E}$ and $\\mathrm{I}$ neurons**  \n",
        "(the vector $I_{\\perp}\\neq \\mathbf{0}$)\n"
      ]
    },
    {
      "cell_type": "markdown",
      "metadata": {
        "id": "Uv8bRKRkp_eZ",
        "colab_type": "text"
      },
      "source": [
        "In the previous case, input vector is parallel to the right sigular eigenvector of connectivity matrix $m^{(1)}$, so temporal dynamics of $\\kappa$ only depends on (proportional to) the right eigenvector $m^{(1)}$ of recurrent subspace. ref to [Murphy and Miller Neuron 2009], In a more general case, external input vector $I_{ext}$ has component, which is perpendicular to recurrent vector $m^{(1)}$, can be expressed as $I_{\\perp}$, also the projection of $I$ to $m$ can be expressed as the overlapping variable $\\mathcal{O}_{mI}$.  \n",
        "The response vector now is the linear combination of vector of recurrent subspace and stimulus subspace"
      ]
    },
    {
      "cell_type": "markdown",
      "metadata": {
        "id": "fodDpTzt79-C",
        "colab_type": "text"
      },
      "source": [
        "$$x(t)=\\kappa_{(1)}(t)m^{(1)}+\\nu(t)I_{\\perp}.$$  \n",
        "According to Schmidt Normalization, we have\n",
        "$$\\mathcal{O}_{mI}= \\frac{I^{\\mathrm{T}}m}{\\Vert m \\Vert }\\frac{1}{\\Vert m \\Vert},$$  \n",
        "then the temporal dynamics of $\\kappa,\\ \\nu$ is like  \n",
        "$$\\dot{\\kappa}=-\\kappa+\\mathbf{n}^{\\mathrm{T}}\\phi(\\kappa+\\nu\\mathbf{I}_{\\perp})+\\mathcal{O}_{mI}$$\n",
        "$$\\dot{\\nu}=-\\nu+1$$  \n",
        "  "
      ]
    },
    {
      "cell_type": "code",
      "metadata": {
        "id": "8yFyMZrdZCvl",
        "colab_type": "code",
        "colab": {}
      },
      "source": [
        "# figure out the critical points, which meet the requirement -- f(x) is tangent to g(x)\n",
        "def solvetangent(x,params):\n",
        "    x0,x1=x.tolist()\n",
        "    JE,JI=params[0],params[1]\n",
        "    C=(JE-JI)/2.0\n",
        "    return [-x0+C*(1+np.tanh(x0+x1)),-1+C*(1-(np.tanh(x0+x1))**2)]\n",
        "\n",
        "# find the saddle-node bifurcation points\n",
        "tangp = np.zeros((2,2))\n",
        "JE,JI=5,1\n",
        "kappa0,i0=-0.2,0.0\n",
        "x0,x1 = fsolve(solvetangent,[kappa0,i0],args=[JE,JI])\n",
        "tangp[0,0],tangp[0,1]=x0,x1\n",
        "# print('the low one:',x0,x1)\n",
        "kappa0,i0=2.0,-4.0\n",
        "x0_,x1_ = fsolve(solvetangent,[kappa0,i0],args=[JE,JI])\n",
        "tangp[1,0],tangp[1,1]=x0_,x1_\n",
        "# print('the top one:',x0_,x1_)"
      ],
      "execution_count": null,
      "outputs": []
    }
  ]
}